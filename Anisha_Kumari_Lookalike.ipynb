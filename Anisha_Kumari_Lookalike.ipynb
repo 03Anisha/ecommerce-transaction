{
 "cells": [
  {
   "cell_type": "code",
   "execution_count": 1,
   "id": "5fa3f66b-22bf-47ae-ba56-c96b20e3717e",
   "metadata": {},
   "outputs": [],
   "source": [
    "import pandas as pd\n",
    "from sklearn.preprocessing import OneHotEncoder, StandardScaler\n",
    "from sklearn.metrics.pairwise import cosine_similarity"
   ]
  },
  {
   "cell_type": "code",
   "execution_count": 3,
   "id": "53ab3c19-8b4c-449d-b261-7a9ffc1cf3c1",
   "metadata": {},
   "outputs": [],
   "source": [
    "customers = pd.read_csv(\"Customers.csv\")\n",
    "products = pd.read_csv(\"Products.csv\")\n",
    "transactions = pd.read_csv(\"Transactions.csv\")"
   ]
  },
  {
   "cell_type": "code",
   "execution_count": 5,
   "id": "1ffc046d-d103-4e1d-9fc6-ec3c274ef05b",
   "metadata": {},
   "outputs": [],
   "source": [
    "merged_data = transactions.merge(customers, on=\"CustomerID\").merge(products, on=\"ProductID\")"
   ]
  },
  {
   "cell_type": "code",
   "execution_count": 9,
   "id": "5830de9c-417f-43eb-bda1-f736bfb9f204",
   "metadata": {},
   "outputs": [],
   "source": [
    "# Aggregating transaction data\n",
    "customer_features = merged_data.groupby('CustomerID').agg(\n",
    "    TotalSpending=('TotalValue', 'sum'),\n",
    "    TotalQuantity=('Quantity', 'sum'),\n",
    "    AvgOrderValue=('TotalValue', 'mean')\n",
    ").reset_index()"
   ]
  },
  {
   "cell_type": "code",
   "execution_count": 15,
   "id": "fdd69ce9-2543-4949-82f5-d23c5b5df238",
   "metadata": {},
   "outputs": [],
   "source": [
    "region_encoder = OneHotEncoder(sparse_output=False)  # Use sparse_output instead of sparse\n",
    "region_encoded = pd.DataFrame(region_encoder.fit_transform(customers[['Region']]),\n",
    "                               columns=region_encoder.get_feature_names_out(['Region']))\n",
    "region_encoded['CustomerID'] = customers['CustomerID']"
   ]
  },
  {
   "cell_type": "code",
   "execution_count": 17,
   "id": "7355a864-1f3f-4d36-860e-a00f2ac58709",
   "metadata": {},
   "outputs": [],
   "source": [
    "customer_features = customer_features.merge(region_encoded, on='CustomerID')"
   ]
  },
  {
   "cell_type": "code",
   "execution_count": 19,
   "id": "ffce9743-0e9e-4c6b-a7fa-15a0dc78576d",
   "metadata": {},
   "outputs": [],
   "source": [
    "scaler = StandardScaler()\n",
    "numerical_features = ['TotalSpending', 'TotalQuantity', 'AvgOrderValue']\n",
    "customer_features[numerical_features] = scaler.fit_transform(customer_features[numerical_features])"
   ]
  },
  {
   "cell_type": "code",
   "execution_count": 21,
   "id": "2719e054-5cd9-4900-8241-276f0fbb67a4",
   "metadata": {},
   "outputs": [],
   "source": [
    "customer_ids = customer_features['CustomerID']\n",
    "feature_matrix = customer_features.drop('CustomerID', axis=1)\n",
    "\n",
    "similarity_matrix = cosine_similarity(feature_matrix)\n",
    "similarity_df = pd.DataFrame(similarity_matrix, index=customer_ids, columns=customer_ids)"
   ]
  },
  {
   "cell_type": "code",
   "execution_count": 23,
   "id": "e292dceb-416a-497c-a2de-56fda97c1314",
   "metadata": {},
   "outputs": [],
   "source": [
    "def get_top_3_similar(customer_id, similarity_df):\n",
    "    similar_customers = similarity_df[customer_id].sort_values(ascending=False).iloc[1:4]\n",
    "    return list(zip(similar_customers.index, similar_customers.values))\n",
    "\n",
    "lookalike_results = []\n",
    "for customer_id in customer_ids:\n",
    "    similar_customers = get_top_3_similar(customer_id, similarity_df)\n",
    "    for similar_customer_id, score in similar_customers:\n",
    "        lookalike_results.append([customer_id, similar_customer_id, score])"
   ]
  },
  {
   "cell_type": "code",
   "execution_count": 25,
   "id": "b413a8f3-a8eb-421d-a65d-c0b1e050ae71",
   "metadata": {},
   "outputs": [
    {
     "name": "stdout",
     "output_type": "stream",
     "text": [
      "Lookalike recommendations saved to 'Lookalike.csv'.\n"
     ]
    }
   ],
   "source": [
    "lookalike_df = pd.DataFrame(lookalike_results, columns=['CustomerID', 'SimilarCustomerID', 'SimilarityScore'])\n",
    "lookalike_df.to_csv('Lookalike.csv', index=False)\n",
    "\n",
    "print(\"Lookalike recommendations saved to 'Lookalike.csv'.\")"
   ]
  },
  {
   "cell_type": "code",
   "execution_count": 27,
   "id": "46166411-df18-45b6-9bba-80ba850d0b09",
   "metadata": {},
   "outputs": [],
   "source": [
    "Lookalike = pd.read_csv(\"Lookalike.csv\")"
   ]
  },
  {
   "cell_type": "code",
   "execution_count": 29,
   "id": "8bae2142-e0f0-481d-805e-7cd2061740cd",
   "metadata": {},
   "outputs": [
    {
     "name": "stdout",
     "output_type": "stream",
     "text": [
      "  CustomerID SimilarCustomerID  SimilarityScore\n",
      "0      C0001             C0137         0.987783\n",
      "1      C0001             C0107         0.964679\n",
      "2      C0001             C0152         0.955025\n",
      "3      C0002             C0088         0.991699\n",
      "4      C0002             C0142         0.975260\n"
     ]
    }
   ],
   "source": [
    "print(lookalike_df.head())"
   ]
  },
  {
   "cell_type": "code",
   "execution_count": 54,
   "id": "0907e01a-f722-4fc5-8b3d-89444c529914",
   "metadata": {},
   "outputs": [
    {
     "name": "stdout",
     "output_type": "stream",
     "text": [
      "    CustomerID SimilarCustomerID  SimilarityScore\n",
      "592      C0199             C0103         0.968654\n",
      "593      C0199             C0172         0.954687\n",
      "594      C0200             C0138         0.977982\n",
      "595      C0200             C0022         0.913937\n",
      "596      C0200             C0143         0.879663\n"
     ]
    }
   ],
   "source": [
    "print(lookalike_df.tail())"
   ]
  },
  {
   "cell_type": "code",
   "execution_count": 56,
   "id": "a9137350-dcfd-4a66-b05e-b238badf5722",
   "metadata": {},
   "outputs": [
    {
     "name": "stdout",
     "output_type": "stream",
     "text": [
      "    CustomerID SimilarCustomerID  SimilarityScore\n",
      "0        C0001             C0137         0.987783\n",
      "1        C0001             C0107         0.964679\n",
      "2        C0001             C0152         0.955025\n",
      "3        C0002             C0088         0.991699\n",
      "4        C0002             C0142         0.975260\n",
      "..         ...               ...              ...\n",
      "591      C0199             C0062         0.981794\n",
      "592      C0199             C0103         0.968654\n",
      "593      C0199             C0172         0.954687\n",
      "594      C0200             C0138         0.977982\n",
      "595      C0200             C0022         0.913937\n",
      "\n",
      "[596 rows x 3 columns]\n"
     ]
    }
   ],
   "source": [
    "print(lookalike_df.head(596\n",
    "                       ))"
   ]
  },
  {
   "cell_type": "code",
   "execution_count": 58,
   "id": "6eb7fcd1-70ea-4299-8bd8-f128563f9cc5",
   "metadata": {},
   "outputs": [],
   "source": [
    "Lookalike.to_csv(\"Lookalike.csv\", index=False) "
   ]
  },
  {
   "cell_type": "code",
   "execution_count": 62,
   "id": "fc615935-b139-4148-a47a-315245f72a3f",
   "metadata": {},
   "outputs": [
    {
     "data": {
      "text/html": [
       "<a href='Lookalike.csv' target='_blank'>Lookalike.csv</a><br>"
      ],
      "text/plain": [
       "C:\\Users\\User\\Lookalike.csv"
      ]
     },
     "execution_count": 62,
     "metadata": {},
     "output_type": "execute_result"
    }
   ],
   "source": [
    "from IPython.display import FileLink\n",
    "FileLink(\"Lookalike.csv\")"
   ]
  },
  {
   "cell_type": "code",
   "execution_count": null,
   "id": "9a2161ba-502f-4a46-8ab2-180c2fa868b1",
   "metadata": {},
   "outputs": [],
   "source": []
  }
 ],
 "metadata": {
  "kernelspec": {
   "display_name": "Python 3 (ipykernel)",
   "language": "python",
   "name": "python3"
  },
  "language_info": {
   "codemirror_mode": {
    "name": "ipython",
    "version": 3
   },
   "file_extension": ".py",
   "mimetype": "text/x-python",
   "name": "python",
   "nbconvert_exporter": "python",
   "pygments_lexer": "ipython3",
   "version": "3.12.4"
  }
 },
 "nbformat": 4,
 "nbformat_minor": 5
}
